{
 "cells": [
  {
   "cell_type": "markdown",
   "metadata": {},
   "source": [
    "# COLOR DETECTION PROJECT"
   ]
  },
  {
   "cell_type": "markdown",
   "metadata": {},
   "source": [
    "### Project is build up using RGB colors dataset and various machine learning algorithms such KNN"
   ]
  },
  {
   "cell_type": "markdown",
   "metadata": {},
   "source": [
    "<img src=\"img.jpg\">"
   ]
  },
  {
   "cell_type": "markdown",
   "metadata": {},
   "source": [
    "## Code:"
   ]
  },
  {
   "cell_type": "code",
   "execution_count": 97,
   "metadata": {},
   "outputs": [],
   "source": [
    "import cv2"
   ]
  },
  {
   "cell_type": "code",
   "execution_count": 98,
   "metadata": {},
   "outputs": [],
   "source": [
    "import numpy as np\n",
    "import pandas as pd\n",
    "import matplotlib.pyplot as plt\n",
    "import seaborn as sns\n",
    "%matplotlib inline"
   ]
  },
  {
   "cell_type": "code",
   "execution_count": 99,
   "metadata": {},
   "outputs": [],
   "source": [
    "data1 = pd.read_csv('colors.csv',header=None)"
   ]
  },
  {
   "cell_type": "code",
   "execution_count": 100,
   "metadata": {},
   "outputs": [
    {
     "data": {
      "text/html": [
       "<div>\n",
       "<style scoped>\n",
       "    .dataframe tbody tr th:only-of-type {\n",
       "        vertical-align: middle;\n",
       "    }\n",
       "\n",
       "    .dataframe tbody tr th {\n",
       "        vertical-align: top;\n",
       "    }\n",
       "\n",
       "    .dataframe thead th {\n",
       "        text-align: right;\n",
       "    }\n",
       "</style>\n",
       "<table border=\"1\" class=\"dataframe\">\n",
       "  <thead>\n",
       "    <tr style=\"text-align: right;\">\n",
       "      <th></th>\n",
       "      <th>0</th>\n",
       "      <th>1</th>\n",
       "      <th>2</th>\n",
       "      <th>3</th>\n",
       "      <th>4</th>\n",
       "      <th>5</th>\n",
       "    </tr>\n",
       "  </thead>\n",
       "  <tbody>\n",
       "    <tr>\n",
       "      <th>0</th>\n",
       "      <td>air_force_blue_raf</td>\n",
       "      <td>Air Force Blue (Raf)</td>\n",
       "      <td>#5d8aa8</td>\n",
       "      <td>93</td>\n",
       "      <td>138</td>\n",
       "      <td>168</td>\n",
       "    </tr>\n",
       "    <tr>\n",
       "      <th>1</th>\n",
       "      <td>air_force_blue_usaf</td>\n",
       "      <td>Air Force Blue (Usaf)</td>\n",
       "      <td>#00308f</td>\n",
       "      <td>0</td>\n",
       "      <td>48</td>\n",
       "      <td>143</td>\n",
       "    </tr>\n",
       "    <tr>\n",
       "      <th>2</th>\n",
       "      <td>air_superiority_blue</td>\n",
       "      <td>Air Superiority Blue</td>\n",
       "      <td>#72a0c1</td>\n",
       "      <td>114</td>\n",
       "      <td>160</td>\n",
       "      <td>193</td>\n",
       "    </tr>\n",
       "    <tr>\n",
       "      <th>3</th>\n",
       "      <td>alabama_crimson</td>\n",
       "      <td>Alabama Crimson</td>\n",
       "      <td>#a32638</td>\n",
       "      <td>163</td>\n",
       "      <td>38</td>\n",
       "      <td>56</td>\n",
       "    </tr>\n",
       "    <tr>\n",
       "      <th>4</th>\n",
       "      <td>alice_blue</td>\n",
       "      <td>Alice Blue</td>\n",
       "      <td>#f0f8ff</td>\n",
       "      <td>240</td>\n",
       "      <td>248</td>\n",
       "      <td>255</td>\n",
       "    </tr>\n",
       "  </tbody>\n",
       "</table>\n",
       "</div>"
      ],
      "text/plain": [
       "                      0                      1        2    3    4    5\n",
       "0    air_force_blue_raf   Air Force Blue (Raf)  #5d8aa8   93  138  168\n",
       "1   air_force_blue_usaf  Air Force Blue (Usaf)  #00308f    0   48  143\n",
       "2  air_superiority_blue   Air Superiority Blue  #72a0c1  114  160  193\n",
       "3       alabama_crimson        Alabama Crimson  #a32638  163   38   56\n",
       "4            alice_blue             Alice Blue  #f0f8ff  240  248  255"
      ]
     },
     "execution_count": 100,
     "metadata": {},
     "output_type": "execute_result"
    }
   ],
   "source": [
    "data1.head()"
   ]
  },
  {
   "cell_type": "code",
   "execution_count": 101,
   "metadata": {},
   "outputs": [],
   "source": [
    "data1.columns = ['name1','Color_name','code','R','G','B']"
   ]
  },
  {
   "cell_type": "code",
   "execution_count": 102,
   "metadata": {},
   "outputs": [],
   "source": [
    "data2 = data1.drop(['name1'],axis=1)"
   ]
  },
  {
   "cell_type": "code",
   "execution_count": 103,
   "metadata": {},
   "outputs": [
    {
     "data": {
      "text/html": [
       "<div>\n",
       "<style scoped>\n",
       "    .dataframe tbody tr th:only-of-type {\n",
       "        vertical-align: middle;\n",
       "    }\n",
       "\n",
       "    .dataframe tbody tr th {\n",
       "        vertical-align: top;\n",
       "    }\n",
       "\n",
       "    .dataframe thead th {\n",
       "        text-align: right;\n",
       "    }\n",
       "</style>\n",
       "<table border=\"1\" class=\"dataframe\">\n",
       "  <thead>\n",
       "    <tr style=\"text-align: right;\">\n",
       "      <th></th>\n",
       "      <th>Color_name</th>\n",
       "      <th>code</th>\n",
       "      <th>R</th>\n",
       "      <th>G</th>\n",
       "      <th>B</th>\n",
       "    </tr>\n",
       "  </thead>\n",
       "  <tbody>\n",
       "    <tr>\n",
       "      <th>0</th>\n",
       "      <td>Air Force Blue (Raf)</td>\n",
       "      <td>#5d8aa8</td>\n",
       "      <td>93</td>\n",
       "      <td>138</td>\n",
       "      <td>168</td>\n",
       "    </tr>\n",
       "    <tr>\n",
       "      <th>1</th>\n",
       "      <td>Air Force Blue (Usaf)</td>\n",
       "      <td>#00308f</td>\n",
       "      <td>0</td>\n",
       "      <td>48</td>\n",
       "      <td>143</td>\n",
       "    </tr>\n",
       "    <tr>\n",
       "      <th>2</th>\n",
       "      <td>Air Superiority Blue</td>\n",
       "      <td>#72a0c1</td>\n",
       "      <td>114</td>\n",
       "      <td>160</td>\n",
       "      <td>193</td>\n",
       "    </tr>\n",
       "    <tr>\n",
       "      <th>3</th>\n",
       "      <td>Alabama Crimson</td>\n",
       "      <td>#a32638</td>\n",
       "      <td>163</td>\n",
       "      <td>38</td>\n",
       "      <td>56</td>\n",
       "    </tr>\n",
       "    <tr>\n",
       "      <th>4</th>\n",
       "      <td>Alice Blue</td>\n",
       "      <td>#f0f8ff</td>\n",
       "      <td>240</td>\n",
       "      <td>248</td>\n",
       "      <td>255</td>\n",
       "    </tr>\n",
       "  </tbody>\n",
       "</table>\n",
       "</div>"
      ],
      "text/plain": [
       "              Color_name     code    R    G    B\n",
       "0   Air Force Blue (Raf)  #5d8aa8   93  138  168\n",
       "1  Air Force Blue (Usaf)  #00308f    0   48  143\n",
       "2   Air Superiority Blue  #72a0c1  114  160  193\n",
       "3        Alabama Crimson  #a32638  163   38   56\n",
       "4             Alice Blue  #f0f8ff  240  248  255"
      ]
     },
     "execution_count": 103,
     "metadata": {},
     "output_type": "execute_result"
    }
   ],
   "source": [
    "data2.head()"
   ]
  },
  {
   "cell_type": "code",
   "execution_count": 104,
   "metadata": {},
   "outputs": [],
   "source": [
    "data2['color_code'] = data2['Color_name'] +\" \"+ data2['code']"
   ]
  },
  {
   "cell_type": "code",
   "execution_count": 105,
   "metadata": {},
   "outputs": [
    {
     "data": {
      "text/html": [
       "<div>\n",
       "<style scoped>\n",
       "    .dataframe tbody tr th:only-of-type {\n",
       "        vertical-align: middle;\n",
       "    }\n",
       "\n",
       "    .dataframe tbody tr th {\n",
       "        vertical-align: top;\n",
       "    }\n",
       "\n",
       "    .dataframe thead th {\n",
       "        text-align: right;\n",
       "    }\n",
       "</style>\n",
       "<table border=\"1\" class=\"dataframe\">\n",
       "  <thead>\n",
       "    <tr style=\"text-align: right;\">\n",
       "      <th></th>\n",
       "      <th>Color_name</th>\n",
       "      <th>code</th>\n",
       "      <th>R</th>\n",
       "      <th>G</th>\n",
       "      <th>B</th>\n",
       "      <th>color_code</th>\n",
       "    </tr>\n",
       "  </thead>\n",
       "  <tbody>\n",
       "    <tr>\n",
       "      <th>0</th>\n",
       "      <td>Air Force Blue (Raf)</td>\n",
       "      <td>#5d8aa8</td>\n",
       "      <td>93</td>\n",
       "      <td>138</td>\n",
       "      <td>168</td>\n",
       "      <td>Air Force Blue (Raf) #5d8aa8</td>\n",
       "    </tr>\n",
       "    <tr>\n",
       "      <th>1</th>\n",
       "      <td>Air Force Blue (Usaf)</td>\n",
       "      <td>#00308f</td>\n",
       "      <td>0</td>\n",
       "      <td>48</td>\n",
       "      <td>143</td>\n",
       "      <td>Air Force Blue (Usaf) #00308f</td>\n",
       "    </tr>\n",
       "    <tr>\n",
       "      <th>2</th>\n",
       "      <td>Air Superiority Blue</td>\n",
       "      <td>#72a0c1</td>\n",
       "      <td>114</td>\n",
       "      <td>160</td>\n",
       "      <td>193</td>\n",
       "      <td>Air Superiority Blue #72a0c1</td>\n",
       "    </tr>\n",
       "    <tr>\n",
       "      <th>3</th>\n",
       "      <td>Alabama Crimson</td>\n",
       "      <td>#a32638</td>\n",
       "      <td>163</td>\n",
       "      <td>38</td>\n",
       "      <td>56</td>\n",
       "      <td>Alabama Crimson #a32638</td>\n",
       "    </tr>\n",
       "    <tr>\n",
       "      <th>4</th>\n",
       "      <td>Alice Blue</td>\n",
       "      <td>#f0f8ff</td>\n",
       "      <td>240</td>\n",
       "      <td>248</td>\n",
       "      <td>255</td>\n",
       "      <td>Alice Blue #f0f8ff</td>\n",
       "    </tr>\n",
       "  </tbody>\n",
       "</table>\n",
       "</div>"
      ],
      "text/plain": [
       "              Color_name     code    R    G    B  \\\n",
       "0   Air Force Blue (Raf)  #5d8aa8   93  138  168   \n",
       "1  Air Force Blue (Usaf)  #00308f    0   48  143   \n",
       "2   Air Superiority Blue  #72a0c1  114  160  193   \n",
       "3        Alabama Crimson  #a32638  163   38   56   \n",
       "4             Alice Blue  #f0f8ff  240  248  255   \n",
       "\n",
       "                      color_code  \n",
       "0   Air Force Blue (Raf) #5d8aa8  \n",
       "1  Air Force Blue (Usaf) #00308f  \n",
       "2   Air Superiority Blue #72a0c1  \n",
       "3        Alabama Crimson #a32638  \n",
       "4             Alice Blue #f0f8ff  "
      ]
     },
     "execution_count": 105,
     "metadata": {},
     "output_type": "execute_result"
    }
   ],
   "source": [
    "data2.head()"
   ]
  },
  {
   "cell_type": "code",
   "execution_count": 106,
   "metadata": {},
   "outputs": [],
   "source": [
    "data2.drop(['Color_name','code'],axis=1,inplace=True)"
   ]
  },
  {
   "cell_type": "code",
   "execution_count": 107,
   "metadata": {},
   "outputs": [
    {
     "data": {
      "text/html": [
       "<div>\n",
       "<style scoped>\n",
       "    .dataframe tbody tr th:only-of-type {\n",
       "        vertical-align: middle;\n",
       "    }\n",
       "\n",
       "    .dataframe tbody tr th {\n",
       "        vertical-align: top;\n",
       "    }\n",
       "\n",
       "    .dataframe thead th {\n",
       "        text-align: right;\n",
       "    }\n",
       "</style>\n",
       "<table border=\"1\" class=\"dataframe\">\n",
       "  <thead>\n",
       "    <tr style=\"text-align: right;\">\n",
       "      <th></th>\n",
       "      <th>R</th>\n",
       "      <th>G</th>\n",
       "      <th>B</th>\n",
       "      <th>color_code</th>\n",
       "    </tr>\n",
       "  </thead>\n",
       "  <tbody>\n",
       "    <tr>\n",
       "      <th>0</th>\n",
       "      <td>93</td>\n",
       "      <td>138</td>\n",
       "      <td>168</td>\n",
       "      <td>Air Force Blue (Raf) #5d8aa8</td>\n",
       "    </tr>\n",
       "    <tr>\n",
       "      <th>1</th>\n",
       "      <td>0</td>\n",
       "      <td>48</td>\n",
       "      <td>143</td>\n",
       "      <td>Air Force Blue (Usaf) #00308f</td>\n",
       "    </tr>\n",
       "    <tr>\n",
       "      <th>2</th>\n",
       "      <td>114</td>\n",
       "      <td>160</td>\n",
       "      <td>193</td>\n",
       "      <td>Air Superiority Blue #72a0c1</td>\n",
       "    </tr>\n",
       "    <tr>\n",
       "      <th>3</th>\n",
       "      <td>163</td>\n",
       "      <td>38</td>\n",
       "      <td>56</td>\n",
       "      <td>Alabama Crimson #a32638</td>\n",
       "    </tr>\n",
       "    <tr>\n",
       "      <th>4</th>\n",
       "      <td>240</td>\n",
       "      <td>248</td>\n",
       "      <td>255</td>\n",
       "      <td>Alice Blue #f0f8ff</td>\n",
       "    </tr>\n",
       "  </tbody>\n",
       "</table>\n",
       "</div>"
      ],
      "text/plain": [
       "     R    G    B                     color_code\n",
       "0   93  138  168   Air Force Blue (Raf) #5d8aa8\n",
       "1    0   48  143  Air Force Blue (Usaf) #00308f\n",
       "2  114  160  193   Air Superiority Blue #72a0c1\n",
       "3  163   38   56        Alabama Crimson #a32638\n",
       "4  240  248  255             Alice Blue #f0f8ff"
      ]
     },
     "execution_count": 107,
     "metadata": {},
     "output_type": "execute_result"
    }
   ],
   "source": [
    "data2.head()"
   ]
  },
  {
   "cell_type": "code",
   "execution_count": 108,
   "metadata": {},
   "outputs": [
    {
     "data": {
      "text/html": [
       "<div>\n",
       "<style scoped>\n",
       "    .dataframe tbody tr th:only-of-type {\n",
       "        vertical-align: middle;\n",
       "    }\n",
       "\n",
       "    .dataframe tbody tr th {\n",
       "        vertical-align: top;\n",
       "    }\n",
       "\n",
       "    .dataframe thead th {\n",
       "        text-align: right;\n",
       "    }\n",
       "</style>\n",
       "<table border=\"1\" class=\"dataframe\">\n",
       "  <thead>\n",
       "    <tr style=\"text-align: right;\">\n",
       "      <th></th>\n",
       "      <th>R</th>\n",
       "      <th>G</th>\n",
       "      <th>B</th>\n",
       "    </tr>\n",
       "  </thead>\n",
       "  <tbody>\n",
       "    <tr>\n",
       "      <th>R</th>\n",
       "      <td>1.000000</td>\n",
       "      <td>0.226170</td>\n",
       "      <td>0.012736</td>\n",
       "    </tr>\n",
       "    <tr>\n",
       "      <th>G</th>\n",
       "      <td>0.226170</td>\n",
       "      <td>1.000000</td>\n",
       "      <td>0.292491</td>\n",
       "    </tr>\n",
       "    <tr>\n",
       "      <th>B</th>\n",
       "      <td>0.012736</td>\n",
       "      <td>0.292491</td>\n",
       "      <td>1.000000</td>\n",
       "    </tr>\n",
       "  </tbody>\n",
       "</table>\n",
       "</div>"
      ],
      "text/plain": [
       "          R         G         B\n",
       "R  1.000000  0.226170  0.012736\n",
       "G  0.226170  1.000000  0.292491\n",
       "B  0.012736  0.292491  1.000000"
      ]
     },
     "execution_count": 108,
     "metadata": {},
     "output_type": "execute_result"
    }
   ],
   "source": [
    "data2.corr()"
   ]
  },
  {
   "cell_type": "code",
   "execution_count": 109,
   "metadata": {},
   "outputs": [
    {
     "data": {
      "text/plain": [
       "<matplotlib.axes._subplots.AxesSubplot at 0x22daf5d3108>"
      ]
     },
     "execution_count": 109,
     "metadata": {},
     "output_type": "execute_result"
    },
    {
     "data": {
      "image/png": "[encoded data removed]",
      "text/plain": [
       "<Figure size 432x288 with 2 Axes>"
      ]
     },
     "metadata": {
      "needs_background": "light"
     },
     "output_type": "display_data"
    }
   ],
   "source": [
    "sns.heatmap(data2.corr())"
   ]
  },
  {
   "cell_type": "code",
   "execution_count": 110,
   "metadata": {},
   "outputs": [
    {
     "data": {
      "text/plain": [
       "<matplotlib.axes._subplots.AxesSubplot at 0x22dad348ac8>"
      ]
     },
     "execution_count": 110,
     "metadata": {},
     "output_type": "execute_result"
    },
    {
     "data": {
      "image/png": "[encoded data removed]",
      "text/plain": [
       "<Figure size 432x288 with 1 Axes>"
      ]
     },
     "metadata": {
      "needs_background": "light"
     },
     "output_type": "display_data"
    }
   ],
   "source": [
    "sns.countplot(data2['color_code'])"
   ]
  },
  {
   "cell_type": "code",
   "execution_count": 111,
   "metadata": {},
   "outputs": [
    {
     "data": {
      "text/plain": [
       "<matplotlib.axes._subplots.AxesSubplot at 0x22db9c93c08>"
      ]
     },
     "execution_count": 111,
     "metadata": {},
     "output_type": "execute_result"
    },
    {
     "data": {
      "image/png": "[encoded data removed]",
      "text/plain": [
       "<Figure size 432x288 with 2 Axes>"
      ]
     },
     "metadata": {
      "needs_background": "light"
     },
     "output_type": "display_data"
    }
   ],
   "source": [
    "sns.heatmap(data2.corr(),cmap='magma',linecolor='white',linewidths=3)"
   ]
  },
  {
   "cell_type": "code",
   "execution_count": 112,
   "metadata": {},
   "outputs": [
    {
     "data": {
      "text/plain": [
       "<seaborn.axisgrid.JointGrid at 0x22dbb431748>"
      ]
     },
     "execution_count": 112,
     "metadata": {},
     "output_type": "execute_result"
    },
    {
     "data": {
      "image/png": "[encoded data removed]",
      "text/plain": [
       "<Figure size 432x432 with 3 Axes>"
      ]
     },
     "metadata": {
      "needs_background": "light"
     },
     "output_type": "display_data"
    }
   ],
   "source": [
    "sns.jointplot(x='R',y='G',data=data2,kind='resid')"
   ]
  },
  {
   "cell_type": "code",
   "execution_count": 113,
   "metadata": {},
   "outputs": [
    {
     "data": {
      "text/plain": [
       "<seaborn.axisgrid.PairGrid at 0x22dbb502788>"
      ]
     },
     "execution_count": 113,
     "metadata": {},
     "output_type": "execute_result"
    },
    {
     "data": {
      "image/png": "[encoded data removed]",
      "text/plain": [
       "<Figure size 540x540 with 12 Axes>"
      ]
     },
     "metadata": {
      "needs_background": "light"
     },
     "output_type": "display_data"
    }
   ],
   "source": [
    "sns.pairplot(data2)"
   ]
  },
  {
   "cell_type": "code",
   "execution_count": 114,
   "metadata": {},
   "outputs": [
    {
     "data": {
      "text/plain": [
       "<matplotlib.axes._subplots.AxesSubplot at 0x22dbc9edcc8>"
      ]
     },
     "execution_count": 114,
     "metadata": {},
     "output_type": "execute_result"
    },
    {
     "data": {
      "image/png": "[encoded data removed]",
      "text/plain": [
       "<Figure size 432x288 with 1 Axes>"
      ]
     },
     "metadata": {
      "needs_background": "light"
     },
     "output_type": "display_data"
    }
   ],
   "source": [
    "sns.kdeplot(data2['R'])\n",
    "sns.kdeplot(data2['G'])\n",
    "sns.kdeplot(data2['B'])"
   ]
  },
  {
   "cell_type": "code",
   "execution_count": 115,
   "metadata": {},
   "outputs": [],
   "source": [
    "from sklearn.model_selection import train_test_split"
   ]
  },
  {
   "cell_type": "code",
   "execution_count": 116,
   "metadata": {},
   "outputs": [],
   "source": [
    "X = data2.drop(['color_code'],axis=1)"
   ]
  },
  {
   "cell_type": "code",
   "execution_count": 117,
   "metadata": {},
   "outputs": [
    {
     "data": {
      "text/html": [
       "<div>\n",
       "<style scoped>\n",
       "    .dataframe tbody tr th:only-of-type {\n",
       "        vertical-align: middle;\n",
       "    }\n",
       "\n",
       "    .dataframe tbody tr th {\n",
       "        vertical-align: top;\n",
       "    }\n",
       "\n",
       "    .dataframe thead th {\n",
       "        text-align: right;\n",
       "    }\n",
       "</style>\n",
       "<table border=\"1\" class=\"dataframe\">\n",
       "  <thead>\n",
       "    <tr style=\"text-align: right;\">\n",
       "      <th></th>\n",
       "      <th>R</th>\n",
       "      <th>G</th>\n",
       "      <th>B</th>\n",
       "    </tr>\n",
       "  </thead>\n",
       "  <tbody>\n",
       "    <tr>\n",
       "      <th>0</th>\n",
       "      <td>93</td>\n",
       "      <td>138</td>\n",
       "      <td>168</td>\n",
       "    </tr>\n",
       "    <tr>\n",
       "      <th>1</th>\n",
       "      <td>0</td>\n",
       "      <td>48</td>\n",
       "      <td>143</td>\n",
       "    </tr>\n",
       "    <tr>\n",
       "      <th>2</th>\n",
       "      <td>114</td>\n",
       "      <td>160</td>\n",
       "      <td>193</td>\n",
       "    </tr>\n",
       "    <tr>\n",
       "      <th>3</th>\n",
       "      <td>163</td>\n",
       "      <td>38</td>\n",
       "      <td>56</td>\n",
       "    </tr>\n",
       "    <tr>\n",
       "      <th>4</th>\n",
       "      <td>240</td>\n",
       "      <td>248</td>\n",
       "      <td>255</td>\n",
       "    </tr>\n",
       "    <tr>\n",
       "      <th>...</th>\n",
       "      <td>...</td>\n",
       "      <td>...</td>\n",
       "      <td>...</td>\n",
       "    </tr>\n",
       "    <tr>\n",
       "      <th>860</th>\n",
       "      <td>255</td>\n",
       "      <td>174</td>\n",
       "      <td>66</td>\n",
       "    </tr>\n",
       "    <tr>\n",
       "      <th>861</th>\n",
       "      <td>255</td>\n",
       "      <td>239</td>\n",
       "      <td>0</td>\n",
       "    </tr>\n",
       "    <tr>\n",
       "      <th>862</th>\n",
       "      <td>254</td>\n",
       "      <td>254</td>\n",
       "      <td>51</td>\n",
       "    </tr>\n",
       "    <tr>\n",
       "      <th>863</th>\n",
       "      <td>0</td>\n",
       "      <td>20</td>\n",
       "      <td>168</td>\n",
       "    </tr>\n",
       "    <tr>\n",
       "      <th>864</th>\n",
       "      <td>44</td>\n",
       "      <td>22</td>\n",
       "      <td>8</td>\n",
       "    </tr>\n",
       "  </tbody>\n",
       "</table>\n",
       "<p>865 rows × 3 columns</p>\n",
       "</div>"
      ],
      "text/plain": [
       "       R    G    B\n",
       "0     93  138  168\n",
       "1      0   48  143\n",
       "2    114  160  193\n",
       "3    163   38   56\n",
       "4    240  248  255\n",
       "..   ...  ...  ...\n",
       "860  255  174   66\n",
       "861  255  239    0\n",
       "862  254  254   51\n",
       "863    0   20  168\n",
       "864   44   22    8\n",
       "\n",
       "[865 rows x 3 columns]"
      ]
     },
     "execution_count": 117,
     "metadata": {},
     "output_type": "execute_result"
    }
   ],
   "source": [
    "X"
   ]
  },
  {
   "cell_type": "code",
   "execution_count": 118,
   "metadata": {},
   "outputs": [],
   "source": [
    "y = data2.drop(['R','G','B'],axis=1)"
   ]
  },
  {
   "cell_type": "code",
   "execution_count": 119,
   "metadata": {},
   "outputs": [
    {
     "data": {
      "text/html": [
       "<div>\n",
       "<style scoped>\n",
       "    .dataframe tbody tr th:only-of-type {\n",
       "        vertical-align: middle;\n",
       "    }\n",
       "\n",
       "    .dataframe tbody tr th {\n",
       "        vertical-align: top;\n",
       "    }\n",
       "\n",
       "    .dataframe thead th {\n",
       "        text-align: right;\n",
       "    }\n",
       "</style>\n",
       "<table border=\"1\" class=\"dataframe\">\n",
       "  <thead>\n",
       "    <tr style=\"text-align: right;\">\n",
       "      <th></th>\n",
       "      <th>color_code</th>\n",
       "    </tr>\n",
       "  </thead>\n",
       "  <tbody>\n",
       "    <tr>\n",
       "      <th>0</th>\n",
       "      <td>Air Force Blue (Raf) #5d8aa8</td>\n",
       "    </tr>\n",
       "    <tr>\n",
       "      <th>1</th>\n",
       "      <td>Air Force Blue (Usaf) #00308f</td>\n",
       "    </tr>\n",
       "    <tr>\n",
       "      <th>2</th>\n",
       "      <td>Air Superiority Blue #72a0c1</td>\n",
       "    </tr>\n",
       "    <tr>\n",
       "      <th>3</th>\n",
       "      <td>Alabama Crimson #a32638</td>\n",
       "    </tr>\n",
       "    <tr>\n",
       "      <th>4</th>\n",
       "      <td>Alice Blue #f0f8ff</td>\n",
       "    </tr>\n",
       "  </tbody>\n",
       "</table>\n",
       "</div>"
      ],
      "text/plain": [
       "                      color_code\n",
       "0   Air Force Blue (Raf) #5d8aa8\n",
       "1  Air Force Blue (Usaf) #00308f\n",
       "2   Air Superiority Blue #72a0c1\n",
       "3        Alabama Crimson #a32638\n",
       "4             Alice Blue #f0f8ff"
      ]
     },
     "execution_count": 119,
     "metadata": {},
     "output_type": "execute_result"
    }
   ],
   "source": [
    "y.head()"
   ]
  },
  {
   "cell_type": "code",
   "execution_count": 120,
   "metadata": {},
   "outputs": [],
   "source": [
    "X_train, X_test, y_train, y_test = train_test_split(X, y, test_size=0.2, random_state=10)"
   ]
  },
  {
   "cell_type": "code",
   "execution_count": 121,
   "metadata": {},
   "outputs": [
    {
     "data": {
      "text/plain": [
       "(692, 3)"
      ]
     },
     "execution_count": 121,
     "metadata": {},
     "output_type": "execute_result"
    }
   ],
   "source": [
    "X_train.shape"
   ]
  },
  {
   "cell_type": "code",
   "execution_count": 122,
   "metadata": {},
   "outputs": [
    {
     "data": {
      "text/plain": [
       "(692, 1)"
      ]
     },
     "execution_count": 122,
     "metadata": {},
     "output_type": "execute_result"
    }
   ],
   "source": [
    "y_train.shape"
   ]
  },
  {
   "cell_type": "code",
   "execution_count": 123,
   "metadata": {},
   "outputs": [
    {
     "data": {
      "text/plain": [
       "(173, 3)"
      ]
     },
     "execution_count": 123,
     "metadata": {},
     "output_type": "execute_result"
    }
   ],
   "source": [
    "X_test.shape"
   ]
  },
  {
   "cell_type": "code",
   "execution_count": 124,
   "metadata": {},
   "outputs": [
    {
     "data": {
      "text/plain": [
       "(173, 1)"
      ]
     },
     "execution_count": 124,
     "metadata": {},
     "output_type": "execute_result"
    }
   ],
   "source": [
    "y_test.shape"
   ]
  },
  {
   "cell_type": "code",
   "execution_count": 125,
   "metadata": {},
   "outputs": [
    {
     "data": {
      "text/html": [
       "<div>\n",
       "<style scoped>\n",
       "    .dataframe tbody tr th:only-of-type {\n",
       "        vertical-align: middle;\n",
       "    }\n",
       "\n",
       "    .dataframe tbody tr th {\n",
       "        vertical-align: top;\n",
       "    }\n",
       "\n",
       "    .dataframe thead th {\n",
       "        text-align: right;\n",
       "    }\n",
       "</style>\n",
       "<table border=\"1\" class=\"dataframe\">\n",
       "  <thead>\n",
       "    <tr style=\"text-align: right;\">\n",
       "      <th></th>\n",
       "      <th>R</th>\n",
       "      <th>G</th>\n",
       "      <th>B</th>\n",
       "    </tr>\n",
       "  </thead>\n",
       "  <tbody>\n",
       "    <tr>\n",
       "      <th>437</th>\n",
       "      <td>177</td>\n",
       "      <td>156</td>\n",
       "      <td>217</td>\n",
       "    </tr>\n",
       "    <tr>\n",
       "      <th>724</th>\n",
       "      <td>203</td>\n",
       "      <td>161</td>\n",
       "      <td>53</td>\n",
       "    </tr>\n",
       "    <tr>\n",
       "      <th>782</th>\n",
       "      <td>224</td>\n",
       "      <td>141</td>\n",
       "      <td>60</td>\n",
       "    </tr>\n",
       "    <tr>\n",
       "      <th>450</th>\n",
       "      <td>50</td>\n",
       "      <td>205</td>\n",
       "      <td>50</td>\n",
       "    </tr>\n",
       "    <tr>\n",
       "      <th>52</th>\n",
       "      <td>191</td>\n",
       "      <td>79</td>\n",
       "      <td>81</td>\n",
       "    </tr>\n",
       "    <tr>\n",
       "      <th>...</th>\n",
       "      <td>...</td>\n",
       "      <td>...</td>\n",
       "      <td>...</td>\n",
       "    </tr>\n",
       "    <tr>\n",
       "      <th>142</th>\n",
       "      <td>178</td>\n",
       "      <td>255</td>\n",
       "      <td>255</td>\n",
       "    </tr>\n",
       "    <tr>\n",
       "      <th>621</th>\n",
       "      <td>0</td>\n",
       "      <td>15</td>\n",
       "      <td>137</td>\n",
       "    </tr>\n",
       "    <tr>\n",
       "      <th>727</th>\n",
       "      <td>255</td>\n",
       "      <td>216</td>\n",
       "      <td>0</td>\n",
       "    </tr>\n",
       "    <tr>\n",
       "      <th>845</th>\n",
       "      <td>255</td>\n",
       "      <td>255</td>\n",
       "      <td>255</td>\n",
       "    </tr>\n",
       "    <tr>\n",
       "      <th>116</th>\n",
       "      <td>75</td>\n",
       "      <td>54</td>\n",
       "      <td>33</td>\n",
       "    </tr>\n",
       "  </tbody>\n",
       "</table>\n",
       "<p>173 rows × 3 columns</p>\n",
       "</div>"
      ],
      "text/plain": [
       "       R    G    B\n",
       "437  177  156  217\n",
       "724  203  161   53\n",
       "782  224  141   60\n",
       "450   50  205   50\n",
       "52   191   79   81\n",
       "..   ...  ...  ...\n",
       "142  178  255  255\n",
       "621    0   15  137\n",
       "727  255  216    0\n",
       "845  255  255  255\n",
       "116   75   54   33\n",
       "\n",
       "[173 rows x 3 columns]"
      ]
     },
     "execution_count": 125,
     "metadata": {},
     "output_type": "execute_result"
    }
   ],
   "source": [
    "X_test"
   ]
  },
  {
   "cell_type": "code",
   "execution_count": 126,
   "metadata": {},
   "outputs": [
    {
     "data": {
      "text/html": [
       "<div>\n",
       "<style scoped>\n",
       "    .dataframe tbody tr th:only-of-type {\n",
       "        vertical-align: middle;\n",
       "    }\n",
       "\n",
       "    .dataframe tbody tr th {\n",
       "        vertical-align: top;\n",
       "    }\n",
       "\n",
       "    .dataframe thead th {\n",
       "        text-align: right;\n",
       "    }\n",
       "</style>\n",
       "<table border=\"1\" class=\"dataframe\">\n",
       "  <thead>\n",
       "    <tr style=\"text-align: right;\">\n",
       "      <th></th>\n",
       "      <th>color_code</th>\n",
       "    </tr>\n",
       "  </thead>\n",
       "  <tbody>\n",
       "    <tr>\n",
       "      <th>437</th>\n",
       "      <td>Light Pastel Purple #b19cd9</td>\n",
       "    </tr>\n",
       "    <tr>\n",
       "      <th>724</th>\n",
       "      <td>Satin Sheen Gold #cba135</td>\n",
       "    </tr>\n",
       "    <tr>\n",
       "      <th>782</th>\n",
       "      <td>Tiger'S Eye #e08d3c</td>\n",
       "    </tr>\n",
       "    <tr>\n",
       "      <th>450</th>\n",
       "      <td>Lime Green #32cd32</td>\n",
       "    </tr>\n",
       "    <tr>\n",
       "      <th>52</th>\n",
       "      <td>Bittersweet Shimmer #bf4f51</td>\n",
       "    </tr>\n",
       "  </tbody>\n",
       "</table>\n",
       "</div>"
      ],
      "text/plain": [
       "                      color_code\n",
       "437  Light Pastel Purple #b19cd9\n",
       "724     Satin Sheen Gold #cba135\n",
       "782          Tiger'S Eye #e08d3c\n",
       "450           Lime Green #32cd32\n",
       "52   Bittersweet Shimmer #bf4f51"
      ]
     },
     "execution_count": 126,
     "metadata": {},
     "output_type": "execute_result"
    }
   ],
   "source": [
    "y_test.head()"
   ]
  },
  {
   "cell_type": "markdown",
   "metadata": {},
   "source": [
    "## K Nearest Neighbours classifier(Supervised learning)"
   ]
  },
  {
   "cell_type": "code",
   "execution_count": 127,
   "metadata": {},
   "outputs": [],
   "source": [
    "from sklearn.neighbors import KNeighborsClassifier"
   ]
  },
  {
   "cell_type": "code",
   "execution_count": 128,
   "metadata": {},
   "outputs": [
    {
     "name": "stderr",
     "output_type": "stream",
     "text": [
      "C:\\ProgramData\\Anaconda3\\lib\\site-packages\\ipykernel_launcher.py:7: DataConversionWarning: A column-vector y was passed when a 1d array was expected. Please change the shape of y to (n_samples, ), for example using ravel().\n",
      "  import sys\n",
      "C:\\ProgramData\\Anaconda3\\lib\\site-packages\\ipykernel_launcher.py:7: DataConversionWarning: A column-vector y was passed when a 1d array was expected. Please change the shape of y to (n_samples, ), for example using ravel().\n",
      "  import sys\n",
      "C:\\ProgramData\\Anaconda3\\lib\\site-packages\\ipykernel_launcher.py:7: DataConversionWarning: A column-vector y was passed when a 1d array was expected. Please change the shape of y to (n_samples, ), for example using ravel().\n",
      "  import sys\n",
      "C:\\ProgramData\\Anaconda3\\lib\\site-packages\\ipykernel_launcher.py:7: DataConversionWarning: A column-vector y was passed when a 1d array was expected. Please change the shape of y to (n_samples, ), for example using ravel().\n",
      "  import sys\n",
      "C:\\ProgramData\\Anaconda3\\lib\\site-packages\\ipykernel_launcher.py:7: DataConversionWarning: A column-vector y was passed when a 1d array was expected. Please change the shape of y to (n_samples, ), for example using ravel().\n",
      "  import sys\n",
      "C:\\ProgramData\\Anaconda3\\lib\\site-packages\\ipykernel_launcher.py:7: DataConversionWarning: A column-vector y was passed when a 1d array was expected. Please change the shape of y to (n_samples, ), for example using ravel().\n",
      "  import sys\n",
      "C:\\ProgramData\\Anaconda3\\lib\\site-packages\\ipykernel_launcher.py:7: DataConversionWarning: A column-vector y was passed when a 1d array was expected. Please change the shape of y to (n_samples, ), for example using ravel().\n",
      "  import sys\n",
      "C:\\ProgramData\\Anaconda3\\lib\\site-packages\\ipykernel_launcher.py:7: DataConversionWarning: A column-vector y was passed when a 1d array was expected. Please change the shape of y to (n_samples, ), for example using ravel().\n",
      "  import sys\n",
      "C:\\ProgramData\\Anaconda3\\lib\\site-packages\\ipykernel_launcher.py:7: DataConversionWarning: A column-vector y was passed when a 1d array was expected. Please change the shape of y to (n_samples, ), for example using ravel().\n",
      "  import sys\n",
      "C:\\ProgramData\\Anaconda3\\lib\\site-packages\\ipykernel_launcher.py:7: DataConversionWarning: A column-vector y was passed when a 1d array was expected. Please change the shape of y to (n_samples, ), for example using ravel().\n",
      "  import sys\n",
      "C:\\ProgramData\\Anaconda3\\lib\\site-packages\\ipykernel_launcher.py:7: DataConversionWarning: A column-vector y was passed when a 1d array was expected. Please change the shape of y to (n_samples, ), for example using ravel().\n",
      "  import sys\n",
      "C:\\ProgramData\\Anaconda3\\lib\\site-packages\\ipykernel_launcher.py:7: DataConversionWarning: A column-vector y was passed when a 1d array was expected. Please change the shape of y to (n_samples, ), for example using ravel().\n",
      "  import sys\n",
      "C:\\ProgramData\\Anaconda3\\lib\\site-packages\\ipykernel_launcher.py:7: DataConversionWarning: A column-vector y was passed when a 1d array was expected. Please change the shape of y to (n_samples, ), for example using ravel().\n",
      "  import sys\n",
      "C:\\ProgramData\\Anaconda3\\lib\\site-packages\\ipykernel_launcher.py:7: DataConversionWarning: A column-vector y was passed when a 1d array was expected. Please change the shape of y to (n_samples, ), for example using ravel().\n",
      "  import sys\n",
      "C:\\ProgramData\\Anaconda3\\lib\\site-packages\\ipykernel_launcher.py:7: DataConversionWarning: A column-vector y was passed when a 1d array was expected. Please change the shape of y to (n_samples, ), for example using ravel().\n",
      "  import sys\n",
      "C:\\ProgramData\\Anaconda3\\lib\\site-packages\\ipykernel_launcher.py:7: DataConversionWarning: A column-vector y was passed when a 1d array was expected. Please change the shape of y to (n_samples, ), for example using ravel().\n",
      "  import sys\n",
      "C:\\ProgramData\\Anaconda3\\lib\\site-packages\\ipykernel_launcher.py:7: DataConversionWarning: A column-vector y was passed when a 1d array was expected. Please change the shape of y to (n_samples, ), for example using ravel().\n",
      "  import sys\n",
      "C:\\ProgramData\\Anaconda3\\lib\\site-packages\\ipykernel_launcher.py:7: DataConversionWarning: A column-vector y was passed when a 1d array was expected. Please change the shape of y to (n_samples, ), for example using ravel().\n",
      "  import sys\n",
      "C:\\ProgramData\\Anaconda3\\lib\\site-packages\\ipykernel_launcher.py:7: DataConversionWarning: A column-vector y was passed when a 1d array was expected. Please change the shape of y to (n_samples, ), for example using ravel().\n",
      "  import sys\n",
      "C:\\ProgramData\\Anaconda3\\lib\\site-packages\\ipykernel_launcher.py:7: DataConversionWarning: A column-vector y was passed when a 1d array was expected. Please change the shape of y to (n_samples, ), for example using ravel().\n",
      "  import sys\n",
      "C:\\ProgramData\\Anaconda3\\lib\\site-packages\\ipykernel_launcher.py:7: DataConversionWarning: A column-vector y was passed when a 1d array was expected. Please change the shape of y to (n_samples, ), for example using ravel().\n",
      "  import sys\n",
      "C:\\ProgramData\\Anaconda3\\lib\\site-packages\\ipykernel_launcher.py:7: DataConversionWarning: A column-vector y was passed when a 1d array was expected. Please change the shape of y to (n_samples, ), for example using ravel().\n",
      "  import sys\n",
      "C:\\ProgramData\\Anaconda3\\lib\\site-packages\\ipykernel_launcher.py:7: DataConversionWarning: A column-vector y was passed when a 1d array was expected. Please change the shape of y to (n_samples, ), for example using ravel().\n",
      "  import sys\n",
      "C:\\ProgramData\\Anaconda3\\lib\\site-packages\\ipykernel_launcher.py:7: DataConversionWarning: A column-vector y was passed when a 1d array was expected. Please change the shape of y to (n_samples, ), for example using ravel().\n",
      "  import sys\n",
      "C:\\ProgramData\\Anaconda3\\lib\\site-packages\\ipykernel_launcher.py:7: DataConversionWarning: A column-vector y was passed when a 1d array was expected. Please change the shape of y to (n_samples, ), for example using ravel().\n",
      "  import sys\n",
      "C:\\ProgramData\\Anaconda3\\lib\\site-packages\\ipykernel_launcher.py:7: DataConversionWarning: A column-vector y was passed when a 1d array was expected. Please change the shape of y to (n_samples, ), for example using ravel().\n",
      "  import sys\n",
      "C:\\ProgramData\\Anaconda3\\lib\\site-packages\\ipykernel_launcher.py:7: DataConversionWarning: A column-vector y was passed when a 1d array was expected. Please change the shape of y to (n_samples, ), for example using ravel().\n",
      "  import sys\n",
      "C:\\ProgramData\\Anaconda3\\lib\\site-packages\\ipykernel_launcher.py:7: DataConversionWarning: A column-vector y was passed when a 1d array was expected. Please change the shape of y to (n_samples, ), for example using ravel().\n",
      "  import sys\n",
      "C:\\ProgramData\\Anaconda3\\lib\\site-packages\\ipykernel_launcher.py:7: DataConversionWarning: A column-vector y was passed when a 1d array was expected. Please change the shape of y to (n_samples, ), for example using ravel().\n",
      "  import sys\n",
      "C:\\ProgramData\\Anaconda3\\lib\\site-packages\\ipykernel_launcher.py:7: DataConversionWarning: A column-vector y was passed when a 1d array was expected. Please change the shape of y to (n_samples, ), for example using ravel().\n",
      "  import sys\n",
      "C:\\ProgramData\\Anaconda3\\lib\\site-packages\\ipykernel_launcher.py:7: DataConversionWarning: A column-vector y was passed when a 1d array was expected. Please change the shape of y to (n_samples, ), for example using ravel().\n",
      "  import sys\n",
      "C:\\ProgramData\\Anaconda3\\lib\\site-packages\\ipykernel_launcher.py:7: DataConversionWarning: A column-vector y was passed when a 1d array was expected. Please change the shape of y to (n_samples, ), for example using ravel().\n",
      "  import sys\n",
      "C:\\ProgramData\\Anaconda3\\lib\\site-packages\\ipykernel_launcher.py:7: DataConversionWarning: A column-vector y was passed when a 1d array was expected. Please change the shape of y to (n_samples, ), for example using ravel().\n",
      "  import sys\n",
      "C:\\ProgramData\\Anaconda3\\lib\\site-packages\\ipykernel_launcher.py:7: DataConversionWarning: A column-vector y was passed when a 1d array was expected. Please change the shape of y to (n_samples, ), for example using ravel().\n",
      "  import sys\n",
      "C:\\ProgramData\\Anaconda3\\lib\\site-packages\\ipykernel_launcher.py:7: DataConversionWarning: A column-vector y was passed when a 1d array was expected. Please change the shape of y to (n_samples, ), for example using ravel().\n",
      "  import sys\n",
      "C:\\ProgramData\\Anaconda3\\lib\\site-packages\\ipykernel_launcher.py:7: DataConversionWarning: A column-vector y was passed when a 1d array was expected. Please change the shape of y to (n_samples, ), for example using ravel().\n",
      "  import sys\n",
      "C:\\ProgramData\\Anaconda3\\lib\\site-packages\\ipykernel_launcher.py:7: DataConversionWarning: A column-vector y was passed when a 1d array was expected. Please change the shape of y to (n_samples, ), for example using ravel().\n",
      "  import sys\n",
      "C:\\ProgramData\\Anaconda3\\lib\\site-packages\\ipykernel_launcher.py:7: DataConversionWarning: A column-vector y was passed when a 1d array was expected. Please change the shape of y to (n_samples, ), for example using ravel().\n",
      "  import sys\n",
      "C:\\ProgramData\\Anaconda3\\lib\\site-packages\\ipykernel_launcher.py:7: DataConversionWarning: A column-vector y was passed when a 1d array was expected. Please change the shape of y to (n_samples, ), for example using ravel().\n",
      "  import sys\n"
     ]
    }
   ],
   "source": [
    "error_rate = []\n",
    "\n",
    "# Will take some time\n",
    "for i in range(1,40):\n",
    "    \n",
    "    knn = KNeighborsClassifier(n_neighbors=i)\n",
    "    knn.fit(X,y)\n",
    "    pred_i = knn.predict(X_test)\n",
    "    error_rate.append(np.mean(pred_i != y_test['color_code']))"
   ]
  },
  {
   "cell_type": "code",
   "execution_count": 129,
   "metadata": {
    "scrolled": true
   },
   "outputs": [
    {
     "data": {
      "text/plain": [
       "Text(0, 0.5, 'Error Rate')"
      ]
     },
     "execution_count": 129,
     "metadata": {},
     "output_type": "execute_result"
    },
    {
     "data": {
      "image/png": "[encoded data removed]",
      "text/plain": [
       "<Figure size 720x432 with 1 Axes>"
      ]
     },
     "metadata": {
      "needs_background": "light"
     },
     "output_type": "display_data"
    }
   ],
   "source": [
    "plt.figure(figsize=(10,6))\n",
    "plt.plot(range(1,40),error_rate,color='blue', linestyle='dashed', marker='o',\n",
    "         markerfacecolor='red', markersize=10)\n",
    "plt.title('Error Rate vs. K Value')\n",
    "plt.xlabel('K')\n",
    "plt.ylabel('Error Rate')"
   ]
  },
  {
   "cell_type": "code",
   "execution_count": 130,
   "metadata": {},
   "outputs": [],
   "source": [
    "knnmodel = KNeighborsClassifier(n_neighbors=10)"
   ]
  },
  {
   "cell_type": "code",
   "execution_count": 131,
   "metadata": {},
   "outputs": [
    {
     "name": "stderr",
     "output_type": "stream",
     "text": [
      "C:\\ProgramData\\Anaconda3\\lib\\site-packages\\ipykernel_launcher.py:1: DataConversionWarning: A column-vector y was passed when a 1d array was expected. Please change the shape of y to (n_samples, ), for example using ravel().\n",
      "  \"\"\"Entry point for launching an IPython kernel.\n"
     ]
    },
    {
     "data": {
      "text/plain": [
       "KNeighborsClassifier(algorithm='auto', leaf_size=30, metric='minkowski',\n",
       "                     metric_params=None, n_jobs=None, n_neighbors=10, p=2,\n",
       "                     weights='uniform')"
      ]
     },
     "execution_count": 131,
     "metadata": {},
     "output_type": "execute_result"
    }
   ],
   "source": [
    "knnmodel.fit(X,y)"
   ]
  },
  {
   "cell_type": "code",
   "execution_count": 132,
   "metadata": {},
   "outputs": [],
   "source": [
    "prediction = knnmodel.predict(X_test)"
   ]
  },
  {
   "cell_type": "code",
   "execution_count": 133,
   "metadata": {},
   "outputs": [
    {
     "data": {
      "text/plain": [
       "array(['Blue Bell #a2a2d0', 'Brass #b5a642', 'Bronze #cd7f32',\n",
       "       'Dark Pastel Green #03c03c', 'Bittersweet Shimmer #bf4f51'],\n",
       "      dtype=object)"
      ]
     },
     "execution_count": 133,
     "metadata": {},
     "output_type": "execute_result"
    }
   ],
   "source": [
    "prediction[0:5]"
   ]
  },
  {
   "cell_type": "code",
   "execution_count": 134,
   "metadata": {},
   "outputs": [
    {
     "data": {
      "text/plain": [
       "<bound method ClassifierMixin.score of KNeighborsClassifier(algorithm='auto', leaf_size=30, metric='minkowski',\n",
       "                     metric_params=None, n_jobs=None, n_neighbors=10, p=2,\n",
       "                     weights='uniform')>"
      ]
     },
     "execution_count": 134,
     "metadata": {},
     "output_type": "execute_result"
    }
   ],
   "source": [
    "knnmodel.score"
   ]
  },
  {
   "cell_type": "code",
   "execution_count": 135,
   "metadata": {},
   "outputs": [],
   "source": [
    "new_input = [[45,45,45]]"
   ]
  },
  {
   "cell_type": "code",
   "execution_count": 136,
   "metadata": {},
   "outputs": [
    {
     "data": {
      "text/plain": [
       "array(['Bistre #3d2b1f'], dtype=object)"
      ]
     },
     "execution_count": 136,
     "metadata": {},
     "output_type": "execute_result"
    }
   ],
   "source": [
    "knnmodel.predict(new_input)"
   ]
  },
  {
   "cell_type": "code",
   "execution_count": 137,
   "metadata": {},
   "outputs": [
    {
     "data": {
      "text/plain": [
       "array(['Air Force Blue (Raf) #5d8aa8'], dtype=object)"
      ]
     },
     "execution_count": 137,
     "metadata": {},
     "output_type": "execute_result"
    }
   ],
   "source": [
    "knnmodel.predict([[93,138,168]])"
   ]
  },
  {
   "cell_type": "code",
   "execution_count": 168,
   "metadata": {},
   "outputs": [
    {
     "name": "stdout",
     "output_type": "stream",
     "text": [
      "Coordinates of pixel: X:  444 Y:  386\n",
      "Coordinates of pixel: X:  271 Y:  477\n",
      "Coordinates of pixel: X:  202 Y:  481\n",
      "Coordinates of pixel: X:  106 Y:  487\n",
      "Coordinates of pixel: X:  804 Y:  520\n",
      "Coordinates of pixel: X:  885 Y:  517\n",
      "Coordinates of pixel: X:  1063 Y:  547\n"
     ]
    }
   ],
   "source": [
    "def mouseRGB(event,x,y,flags,param):\n",
    "    if event == cv2.EVENT_LBUTTONDOWN: #checks mouse left button down condition\n",
    "        colorsB = image[y,x,0]\n",
    "        colorsG = image[y,x,1]\n",
    "        colorsR = image[y,x,2]\n",
    "        font = cv2.FONT_HERSHEY_COMPLEX\n",
    "        img2 = cv2.rectangle(image, (10, 10), (450, 50), (255, 255, 255), -1)\n",
    "        img5 = cv2.putText(image, knnmodel.predict([[colorsR,colorsG,colorsB]])[0], (10, 35), font, 1, (0, 0, 0), 2, cv2.LINE_AA)\n",
    "        print(\"Coordinates of pixel: X: \",x,\"Y: \",y)\n",
    "image = cv2.imread(\"img.jpg\")\n",
    "cv2.namedWindow('mouseRGB',1)\n",
    "cv2.setMouseCallback('mouseRGB',mouseRGB)\n",
    "#Do until esc pressed\n",
    "while(1):\n",
    "    cv2.imshow('mouseRGB',image)\n",
    "    if cv2.waitKey(20) & 0xff==27:\n",
    "        break\n",
    "#if esc pressed, finish.\n",
    "cv2.destroyAllWindows()"
   ]
  },
  {
   "cell_type": "code",
   "execution_count": 139,
   "metadata": {},
   "outputs": [],
   "source": [
    "from sklearn.metrics import classification_report, confusion_matrix"
   ]
  },
  {
   "cell_type": "code",
   "execution_count": 140,
   "metadata": {},
   "outputs": [],
   "source": [
    "from sklearn import metrics"
   ]
  },
  {
   "cell_type": "code",
   "execution_count": 143,
   "metadata": {},
   "outputs": [
    {
     "name": "stdout",
     "output_type": "stream",
     "text": [
      "[[0 0 0 ... 0 0 0]\n",
      " [0 1 0 ... 0 0 0]\n",
      " [0 0 0 ... 0 0 0]\n",
      " ...\n",
      " [0 0 0 ... 0 0 0]\n",
      " [0 0 0 ... 0 0 0]\n",
      " [0 0 0 ... 0 0 0]]\n"
     ]
    }
   ],
   "source": [
    "print(confusion_matrix(y_test,knnmodel.predict(X_test)))"
   ]
  },
  {
   "cell_type": "code",
   "execution_count": 144,
   "metadata": {},
   "outputs": [
    {
     "name": "stdout",
     "output_type": "stream",
     "text": [
      "                                            precision    recall  f1-score   support\n",
      "\n",
      "              Air Force Blue (Raf) #5d8aa8       0.00      0.00      0.00         0\n",
      "             Air Force Blue (Usaf) #00308f       0.33      1.00      0.50         1\n",
      "              Air Superiority Blue #72a0c1       0.00      0.00      0.00         0\n",
      "                   Alabama Crimson #a32638       0.00      0.00      0.00         0\n",
      "                        Alice Blue #f0f8ff       0.00      0.00      0.00         0\n",
      "                  Alizarin Crimson #e32636       0.00      0.00      0.00         0\n",
      "                      Alloy Orange #c46210       0.50      1.00      0.67         1\n",
      "                            Almond #efdecd       0.00      0.00      0.00         0\n",
      "                          Amaranth #e52b50       0.00      0.00      0.00         0\n",
      "                             Amber #ffbf00       0.00      0.00      0.00         0\n",
      "                             Amethyst #96c       0.00      0.00      0.00         0\n",
      "                     Android Green #a4c639       0.00      0.00      0.00         0\n",
      "                     Antique Brass #cd9575       0.00      0.00      0.00         0\n",
      "                   Antique Fuchsia #915c83       0.33      1.00      0.50         1\n",
      "                      Antique Ruby #841b2d       0.00      0.00      0.00         0\n",
      "                     Antique White #faebd7       0.00      0.00      0.00         0\n",
      "                      Ao (English) #008000       0.00      0.00      0.00         0\n",
      "                       Apple Green #8db600       0.00      0.00      0.00         0\n",
      "                           Apricot #fbceb1       0.00      0.00      0.00         0\n",
      "                        Army Green #4b5320       0.00      0.00      0.00         0\n",
      "                           Arsenic #3b444b       0.00      0.00      0.00         0\n",
      "                    Arylide Yellow #e9d66b       0.00      0.00      0.00         0\n",
      "                          Ash Grey #b2beb5       0.33      1.00      0.50         1\n",
      "                         Asparagus #87a96b       0.00      0.00      0.00         0\n",
      "                     Atomic Tangerine #f96       0.00      0.00      0.00         0\n",
      "                            Auburn #a52a2a       0.00      0.00      0.00         0\n",
      "                          Aureolin #fdee00       0.50      1.00      0.67         1\n",
      "                   Aurometalsaurus #6e7f80       0.00      0.00      0.00         0\n",
      "                           Avocado #568203       0.00      0.00      0.00         0\n",
      "                             Azure #007fff       0.50      1.00      0.67         1\n",
      "                         Baby Blue #89cff0       0.00      0.00      0.00         0\n",
      "                    Baby Blue Eyes #a1caf1       0.00      0.00      0.00         0\n",
      "                         Ball Blue #21abcd       0.00      0.00      0.00         0\n",
      "                      Banana Mania #fae7b5       0.00      0.00      0.00         0\n",
      "                     Banana Yellow #ffe135       0.00      0.00      0.00         0\n",
      "                          Barn Red #7c0a02       0.00      0.00      0.00         0\n",
      "                   Battleship Grey #848482       0.00      0.00      0.00         1\n",
      "                            Bazaar #98777b       0.00      0.00      0.00         0\n",
      "                         Beau Blue #bcd4e6       0.33      1.00      0.50         1\n",
      "                            Beaver #9f8170       0.00      0.00      0.00         0\n",
      "                             Beige #f5f5dc       0.00      0.00      0.00         0\n",
      "                       Bittersweet #fe6f5e       0.00      0.00      0.00         0\n",
      "               Bittersweet Shimmer #bf4f51       1.00      1.00      1.00         1\n",
      "              Black Leather Jacket #253529       0.00      0.00      0.00         0\n",
      "                   Blanched Almond #ffebcd       0.00      0.00      0.00         1\n",
      "                  Blast-Off Bronze #a57164       0.00      0.00      0.00         0\n",
      "                    Bleu De France #318ce7       0.00      0.00      0.00         0\n",
      "                     Blizzard Blue #ace5ee       0.00      0.00      0.00         0\n",
      "                    Blue (Crayola) #1f75fe       0.00      0.00      0.00         1\n",
      "                    Blue (Munsell) #0093af       0.00      0.00      0.00         0\n",
      "                        Blue (Ncs) #0087bd       0.00      0.00      0.00         1\n",
      "                       Blue (Pigment) #339       0.00      0.00      0.00         0\n",
      "                         Blue Bell #a2a2d0       0.00      0.00      0.00         0\n",
      "                     Blue Sapphire #126180       0.00      0.00      0.00         0\n",
      "                       Blue-Violet #8a2be2       0.00      0.00      0.00         0\n",
      "                             Blush #de5d83       0.00      0.00      0.00         0\n",
      "                              Bole #79443b       0.00      0.00      0.00         0\n",
      "                        Bondi Blue #0095b6       0.00      0.00      0.00         1\n",
      "                Boston University Red #c00       0.00      0.00      0.00         0\n",
      "                      Bottle Green #006a4e       0.00      0.00      0.00         0\n",
      "                       Boysenberry #873260       0.00      0.00      0.00         0\n",
      "                             Brass #b5a642       0.00      0.00      0.00         0\n",
      "                         Brick Red #cb4154       0.00      0.00      0.00         0\n",
      "                         Bright Green #6f0       0.00      0.00      0.00         0\n",
      "                   Bright Lavender #bf94e4       1.00      1.00      1.00         1\n",
      "                        Bright Ube #d19fe8       0.00      0.00      0.00         0\n",
      "                Brilliant Lavender #f4bbff       0.00      0.00      0.00         0\n",
      "                    Brilliant Rose #ff55a3       0.00      0.00      0.00         0\n",
      "                        Brink Pink #fb607f       0.00      0.00      0.00         1\n",
      "              British Racing Green #004225       0.00      0.00      0.00         0\n",
      "                            Bronze #cd7f32       0.33      1.00      0.50         1\n",
      "               Brown (Traditional) #964b00       0.00      0.00      0.00         0\n",
      "                        Bubble Gum #ffc1cc       0.00      0.00      0.00         0\n",
      "                              Buff #f0dc82       0.00      0.00      0.00         0\n",
      "                         Burlywood #deb887       0.00      0.00      0.00         0\n",
      "                      Burnt Sienna #e97451       0.00      0.00      0.00         1\n",
      "                         Byzantine #bd33a4       0.00      0.00      0.00         0\n",
      "                         Byzantium #702963       0.00      0.00      0.00         0\n",
      "                             Cadet #536872       0.00      0.00      0.00         0\n",
      "                    Cadmium Orange #ed872d       0.00      0.00      0.00         0\n",
      "                         Café Noir #4b3621       0.00      0.00      0.00         1\n",
      "                  Camouflage Green #78866b       0.00      0.00      0.00         1\n",
      "                        Candy Pink #e4717a       0.00      0.00      0.00         1\n",
      "                          Cardinal #c41e3a       0.00      0.00      0.00         0\n",
      "                      Caribbean Green #0c9       0.00      0.00      0.00         0\n",
      "                     Carmine (M&P) #d70040       0.00      0.00      0.00         0\n",
      "                      Carmine Pink #eb4c42       0.50      1.00      0.67         1\n",
      "                    Carnation Pink #ffa6c9       0.00      0.00      0.00         0\n",
      "                     Catalina Blue #062a78       0.00      0.00      0.00         0\n",
      "                              Ceil #92a1cf       0.00      0.00      0.00         1\n",
      "                           Celadon #ace1af       0.00      0.00      0.00         0\n",
      "                      Celadon Blue #007ba7       0.00      0.00      0.00         1\n",
      "                  Celeste (Colour) #b2ffff       0.00      0.00      0.00         1\n",
      "                    Celestial Blue #4997d0       0.00      0.00      0.00         1\n",
      "                       Cerise Pink #ec3b83       0.00      0.00      0.00         0\n",
      "                     Cerulean Blue #2a52be       0.00      0.00      0.00         0\n",
      "                          Charcoal #36454f       0.00      0.00      0.00         1\n",
      "                        Charm Pink #e68fac       0.00      0.00      0.00         0\n",
      "          Chartreuse (Traditional) #dfff00       0.00      0.00      0.00         0\n",
      "                        China Pink #de6fa1       0.00      0.00      0.00         0\n",
      "                        China Rose #a8516e       0.00      0.00      0.00         0\n",
      "           Chocolate (Traditional) #7b3f00       0.00      0.00      0.00         1\n",
      "                     Chrome Yellow #ffa700       0.00      0.00      0.00         0\n",
      "                            Cobalt #0047ab       0.50      1.00      0.67         1\n",
      "                            Coffee #6f4e37       0.00      0.00      0.00         1\n",
      "                     Columbia Blue #9bddff       0.00      0.00      0.00         1\n",
      "                        Cool Black #002e63       0.00      0.00      0.00         1\n",
      "                         Cool Grey #8c92ac       0.00      0.00      0.00         1\n",
      "                        Copper Red #cb6d51       0.00      0.00      0.00         1\n",
      "                              Corn #fbec5d       0.00      0.00      0.00         1\n",
      "                   Cornflower Blue #6495ed       0.00      0.00      0.00         1\n",
      "                          Cornsilk #fff8dc       0.00      0.00      0.00         1\n",
      "                      Cosmic Latte #fff8e7       0.00      0.00      0.00         1\n",
      "                      Cotton Candy #ffbcd9       0.00      0.00      0.00         1\n",
      "                             Cream #fffdd0       0.00      0.00      0.00         1\n",
      "                           Crimson #dc143c       0.00      0.00      0.00         1\n",
      "                    Dark Byzantium #5d3954       0.25      1.00      0.40         1\n",
      "                         Dark Cyan #008b8b       0.00      0.00      0.00         0\n",
      "                      Dark Magenta #8b008b       0.00      0.00      0.00         1\n",
      "                       Dark Orchid #9932cc       0.00      0.00      0.00         1\n",
      "                  Dark Pastel Blue #779ecb       0.00      0.00      0.00         1\n",
      "                 Dark Pastel Green #03c03c       0.00      0.00      0.00         0\n",
      "                          Dark Red #8b0000       0.00      0.00      0.00         1\n",
      "                    Dark Sea Green #8fbc8f       0.00      0.00      0.00         1\n",
      "                   Dark Slate Blue #483d8b       0.00      0.00      0.00         1\n",
      "                 Dark Spring Green #177245       0.00      0.00      0.00         1\n",
      "                    Dark Turquoise #00ced1       0.00      0.00      0.00         1\n",
      "                      Deep Carmine #a9203e       0.00      0.00      0.00         1\n",
      "                Deep Carrot Orange #e9692c       0.00      0.00      0.00         1\n",
      "                    Deep Champagne #fad6a5       0.00      0.00      0.00         1\n",
      "                       Deep Coffee #704241       0.00      0.00      0.00         1\n",
      "                         Deep Ruby #843f5b       0.00      0.00      0.00         1\n",
      "                   Deep Tuscan Red #66424d       0.00      0.00      0.00         1\n",
      "                       Dollar Bill #85bb65       0.00      0.00      0.00         1\n",
      "                          Eggplant #614051       0.00      0.00      0.00         1\n",
      "                   Electric Indigo #6f00ff       0.00      0.00      0.00         1\n",
      "                 Electric Lavender #f4bbff       0.00      0.00      0.00         1\n",
      "                         Eton Blue #96c8a2       0.00      0.00      0.00         1\n",
      "                            Fallow #c19a6b       0.00      0.00      0.00         1\n",
      "                          Falu Red #801818       0.00      0.00      0.00         1\n",
      "                              Fawn #e5aa70       0.00      0.00      0.00         1\n",
      "                         Firebrick #b22222       0.00      0.00      0.00         1\n",
      "                      Floral White #fffaf0       0.00      0.00      0.00         1\n",
      "                         Fuchsia Pink #f7f       0.00      0.00      0.00         0\n",
      "                      Fuchsia Rose #c74375       0.00      0.00      0.00         1\n",
      "                          Glaucous #6082b6       0.00      0.00      0.00         0\n",
      "                   Gold (Metallic) #d4af37       0.00      0.00      0.00         1\n",
      "      Green (Color Wheel) (X11 Green) #0f0       0.00      0.00      0.00         1\n",
      "                       Green (Ncs) #009f6b       0.00      0.00      0.00         1\n",
      "                       Green (Ryb) #66b032       0.00      0.00      0.00         1\n",
      "                      Hunter Green #355e3b       0.00      0.00      0.00         1\n",
      "                          Icterine #fcf75e       0.00      0.00      0.00         1\n",
      "                       India Green #138808       0.00      0.00      0.00         1\n",
      "International Orange (Engineering) #ba160c       0.00      0.00      0.00         1\n",
      "                     Kenyan Copper #7c1c05       0.00      0.00      0.00         1\n",
      "          Khaki (Html/Css) (Khaki) #c3b091       0.00      0.00      0.00         1\n",
      "                  Languid Lavender #d6cadd       0.00      0.00      0.00         1\n",
      "                        Lavender Blue #ccf       0.00      0.00      0.00         1\n",
      "                     Lavender Rose #fba0e3       0.00      0.00      0.00         1\n",
      "                        Light Blue #add8e6       0.00      0.00      0.00         1\n",
      "             Light Cornflower Blue #93ccea       0.00      0.00      0.00         1\n",
      "               Light Pastel Purple #b19cd9       0.00      0.00      0.00         1\n",
      "                      Light Salmon #ffa07a       0.00      0.00      0.00         1\n",
      "                    Light Salmon Pink #f99       0.00      0.00      0.00         1\n",
      "                       Light Taupe #b38b6d       0.00      0.00      0.00         1\n",
      "                Lime (Color Wheel) #bfff00       0.00      0.00      0.00         1\n",
      "               Lime (Web) (X11 Green) #0f0       0.00      0.00      0.00         1\n",
      "                        Lime Green #32cd32       0.00      0.00      0.00         1\n",
      "                         Malachite #0bda51       0.00      0.00      0.00         1\n",
      "                             Mauve #e0b0ff       0.00      0.00      0.00         1\n",
      "              Medium Electric Blue #035096       0.00      0.00      0.00         1\n",
      "                 Medium Red-Violet #bb3385       0.00      0.00      0.00         1\n",
      "                 Medium Spring Bud #c9dc87       0.00      0.00      0.00         1\n",
      "                 Medium Tuscan Red #79443b       0.00      0.00      0.00         1\n",
      "                             Melon #fdbcb4       0.00      0.00      0.00         1\n",
      "                        Mint Cream #f5fffa       0.00      0.00      0.00         1\n",
      "                    Moonstone Blue #73a9c2       0.00      0.00      0.00         1\n",
      "                            Myrtle #21421e       0.00      0.00      0.00         1\n",
      "                      Napier Green #2a8000       0.00      0.00      0.00         1\n",
      "                      Office Green #008000       0.00      0.00      0.00         1\n",
      "                          Old Lace #fdf5e6       0.00      0.00      0.00         1\n",
      "                      Old Lavender #796878       0.00      0.00      0.00         1\n",
      "  Olive Drab (Web) (Olive Drab #3) #6b8e23       0.00      0.00      0.00         1\n",
      "                       Orange Peel #ff9f00       0.00      0.00      0.00         1\n",
      "                        Pale Brown #987654       0.00      0.00      0.00         1\n",
      "                     Pale Chestnut #ddadaf       0.00      0.00      0.00         1\n",
      "                       Pale Copper #da8a67       0.00      0.00      0.00         1\n",
      "              Pale Cornflower Blue #abcdef       0.00      0.00      0.00         1\n",
      "                        Pale Green #98fb98       0.00      0.00      0.00         1\n",
      "                     Pale Lavender #dcd0ff       0.00      0.00      0.00         1\n",
      "               Pale Robin Egg Blue #96ded1       0.00      0.00      0.00         1\n",
      "                       Paris Green #50c878       0.00      0.00      0.00         1\n",
      "                       Pastel Pink #dea5a4       0.00      0.00      0.00         1\n",
      "                        Pastel Red #ff6961       0.00      0.00      0.00         1\n",
      "                             Peach #ffe5b4       0.00      0.00      0.00         1\n",
      "                      Peach-Yellow #fadfad       0.00      0.00      0.00         1\n",
      "                      Persian Blue #1c39bb       0.00      0.00      0.00         1\n",
      "                     Persian Green #00a693       0.00      0.00      0.00         1\n",
      "                    Persian Indigo #32127a       0.00      0.00      0.00         1\n",
      "                      Persian Pink #f77fbe       0.00      0.00      0.00         1\n",
      "                      Persian Plum #701c1c       0.00      0.00      0.00         1\n",
      "                      Persian Rose #fe28a2       0.00      0.00      0.00         1\n",
      "                              Peru #cd853f       0.00      0.00      0.00         1\n",
      "                      Phthalo Blue #000f89       0.00      0.00      0.00         1\n",
      "                     Phthalo Green #123524       0.00      0.00      0.00         1\n",
      "                          Platinum #e5e4e2       0.00      0.00      0.00         1\n",
      "                   Portland Orange #ff5a36       0.00      0.00      0.00         1\n",
      "                            Quartz #51484f       0.00      0.00      0.00         1\n",
      "                           Rackley #5d8aa8       0.00      0.00      0.00         1\n",
      "                       Radical Red #ff355e       0.00      0.00      0.00         1\n",
      "                    Raspberry Rose #b3446c       0.00      0.00      0.00         1\n",
      "                         Red (Ncs) #c40233       0.00      0.00      0.00         1\n",
      "                     Red (Pigment) #ed1c24       0.00      0.00      0.00         1\n",
      "                Rich Electric Blue #0892d0       0.00      0.00      0.00         1\n",
      "                       Rose Bonbon #f9429e       0.00      0.00      0.00         1\n",
      "                         Rose Gold #b76e79       0.00      0.00      0.00         1\n",
      "                        Rosy Brown #bc8f8f       0.00      0.00      0.00         1\n",
      "                       Royal Azure #0038a8       0.00      0.00      0.00         1\n",
      "                     Royal Fuchsia #ca2c92       0.00      0.00      0.00         1\n",
      "                      Royal Purple #7851a9       0.00      0.00      0.00         1\n",
      "                        Rubine Red #d10056       0.00      0.00      0.00         1\n",
      "                       Ruddy Brown #bb6528       0.00      0.00      0.00         1\n",
      "                         Rusty Red #da2c43       0.00      0.00      0.00         1\n",
      "            Sacramento State Green #00563f       0.00      0.00      0.00         1\n",
      "                          Sapphire #0f52ba       0.00      0.00      0.00         1\n",
      "                  Satin Sheen Gold #cba135       0.00      0.00      0.00         1\n",
      "                 School Bus Yellow #ffd800       0.00      0.00      0.00         1\n",
      "                          Sea Blue #006994       0.00      0.00      0.00         1\n",
      "                            Sienna #882d17       0.00      0.00      0.00         1\n",
      "                       Sky Magenta #cf71af       0.00      0.00      0.00         1\n",
      "                        Slate Blue #6a5acd       0.00      0.00      0.00         1\n",
      "                      Smokey Topaz #933d41       0.00      0.00      0.00         1\n",
      "                      Spring Green #00ff7f       0.00      0.00      0.00         1\n",
      "                        Stormcloud #4f666a       0.00      0.00      0.00         1\n",
      "                            Sunset #fad6a5       0.00      0.00      0.00         1\n",
      "                    Tickle Me Pink #fc89ac       0.00      0.00      0.00         1\n",
      "                      Tiffany Blue #0abab5       0.00      0.00      0.00         1\n",
      "                       Tiger'S Eye #e08d3c       0.00      0.00      0.00         1\n",
      "                        Tufts Blue #417dc1       0.00      0.00      0.00         1\n",
      "                      Turkish Rose #b57281       0.00      0.00      0.00         1\n",
      "                        Ultra Pink #ff6fff       0.00      0.00      0.00         1\n",
      "                  Ultramarine Blue #4166f5       0.00      0.00      0.00         1\n",
      "                      Unmellow Yellow #ff6       0.00      0.00      0.00         1\n",
      "                   Up Forest Green #014421       0.00      0.00      0.00         1\n",
      "                         Up Maroon #7b1113       0.00      0.00      0.00         1\n",
      "                             Usc Gold #fc0       0.00      0.00      0.00         1\n",
      "                      Venetian Red #c80815       0.00      0.00      0.00         1\n",
      "                         Verdigris #43b3ae       0.00      0.00      0.00         1\n",
      "                      Vivid Cerise #da1d81       0.00      0.00      0.00         1\n",
      "                                White #fff       0.00      0.00      0.00         1\n",
      "                  Wild Blue Yonder #a2add0       0.00      0.00      0.00         1\n",
      "                   Wild Watermelon #fc6c85       0.00      0.00      0.00         1\n",
      "                      Yellow (Ryb) #fefe33       0.00      0.00      0.00         1\n",
      "\n",
      "                                  accuracy                           0.08       173\n",
      "                                 macro avg       0.03      0.05      0.03       173\n",
      "                              weighted avg       0.04      0.08      0.05       173\n",
      "\n"
     ]
    },
    {
     "name": "stderr",
     "output_type": "stream",
     "text": [
      "C:\\ProgramData\\Anaconda3\\lib\\site-packages\\sklearn\\metrics\\_classification.py:1272: UndefinedMetricWarning: Precision and F-score are ill-defined and being set to 0.0 in labels with no predicted samples. Use `zero_division` parameter to control this behavior.\n",
      "  _warn_prf(average, modifier, msg_start, len(result))\n",
      "C:\\ProgramData\\Anaconda3\\lib\\site-packages\\sklearn\\metrics\\_classification.py:1272: UndefinedMetricWarning: Recall and F-score are ill-defined and being set to 0.0 in labels with no true samples. Use `zero_division` parameter to control this behavior.\n",
      "  _warn_prf(average, modifier, msg_start, len(result))\n"
     ]
    }
   ],
   "source": [
    "print(classification_report(y_test,knnmodel.predict(X_test)))"
   ]
  },
  {
   "cell_type": "code",
   "execution_count": 145,
   "metadata": {},
   "outputs": [],
   "source": [
    "knnscore = metrics.accuracy_score(y_test,knnmodel.predict(X_test))"
   ]
  },
  {
   "cell_type": "code",
   "execution_count": 146,
   "metadata": {},
   "outputs": [
    {
     "data": {
      "text/plain": [
       "0.07514450867052024"
      ]
     },
     "execution_count": 146,
     "metadata": {},
     "output_type": "execute_result"
    }
   ],
   "source": [
    "knnscore"
   ]
  },
  {
   "cell_type": "code",
   "execution_count": 147,
   "metadata": {},
   "outputs": [
    {
     "data": {
      "text/plain": [
       "MultiOutputClassifier(estimator=KNeighborsClassifier(algorithm='auto',\n",
       "                                                     leaf_size=30,\n",
       "                                                     metric='minkowski',\n",
       "                                                     metric_params=None,\n",
       "                                                     n_jobs=None,\n",
       "                                                     n_neighbors=10, p=2,\n",
       "                                                     weights='uniform'),\n",
       "                      n_jobs=-1)"
      ]
     },
     "execution_count": 147,
     "metadata": {},
     "output_type": "execute_result"
    }
   ],
   "source": [
    "from sklearn.multioutput import MultiOutputClassifier\n",
    "\n",
    "knn = KNeighborsClassifier(n_neighbors=10)\n",
    "classifier = MultiOutputClassifier(knn, n_jobs=-1)\n",
    "classifier.fit(X,y)"
   ]
  },
  {
   "cell_type": "code",
   "execution_count": 148,
   "metadata": {},
   "outputs": [],
   "source": [
    "pred = classifier.predict(X_test)"
   ]
  },
  {
   "cell_type": "code",
   "execution_count": 149,
   "metadata": {},
   "outputs": [
    {
     "data": {
      "text/plain": [
       "array([['Blue Bell #a2a2d0'],\n",
       "       ['Brass #b5a642'],\n",
       "       ['Bronze #cd7f32'],\n",
       "       ['Dark Pastel Green #03c03c'],\n",
       "       ['Bittersweet Shimmer #bf4f51']], dtype=object)"
      ]
     },
     "execution_count": 149,
     "metadata": {},
     "output_type": "execute_result"
    }
   ],
   "source": [
    "pred[0:5]"
   ]
  },
  {
   "cell_type": "code",
   "execution_count": 150,
   "metadata": {},
   "outputs": [
    {
     "name": "stdout",
     "output_type": "stream",
     "text": [
      "<bound method MultiOutputClassifier.score of MultiOutputClassifier(estimator=KNeighborsClassifier(algorithm='auto',\n",
      "                                                     leaf_size=30,\n",
      "                                                     metric='minkowski',\n",
      "                                                     metric_params=None,\n",
      "                                                     n_jobs=None,\n",
      "                                                     n_neighbors=10, p=2,\n",
      "                                                     weights='uniform'),\n",
      "                      n_jobs=-1)>\n"
     ]
    }
   ],
   "source": [
    "print(classifier.score)"
   ]
  },
  {
   "cell_type": "code",
   "execution_count": 151,
   "metadata": {},
   "outputs": [
    {
     "name": "stdout",
     "output_type": "stream",
     "text": [
      "[[0 0 0 ... 0 0 0]\n",
      " [0 1 0 ... 0 0 0]\n",
      " [0 0 0 ... 0 0 0]\n",
      " ...\n",
      " [0 0 0 ... 0 0 0]\n",
      " [0 0 0 ... 0 0 0]\n",
      " [0 0 0 ... 0 0 0]]\n"
     ]
    }
   ],
   "source": [
    "print(confusion_matrix(y_test,pred))"
   ]
  },
  {
   "cell_type": "markdown",
   "metadata": {},
   "source": [
    "## Decision Tree Classifier(Supervised Learning algorithm)"
   ]
  },
  {
   "cell_type": "code",
   "execution_count": 152,
   "metadata": {},
   "outputs": [],
   "source": [
    "from sklearn.tree import DecisionTreeClassifier"
   ]
  },
  {
   "cell_type": "code",
   "execution_count": 153,
   "metadata": {},
   "outputs": [],
   "source": [
    "model = DecisionTreeClassifier()"
   ]
  },
  {
   "cell_type": "code",
   "execution_count": 154,
   "metadata": {},
   "outputs": [
    {
     "data": {
      "text/plain": [
       "DecisionTreeClassifier(ccp_alpha=0.0, class_weight=None, criterion='gini',\n",
       "                       max_depth=None, max_features=None, max_leaf_nodes=None,\n",
       "                       min_impurity_decrease=0.0, min_impurity_split=None,\n",
       "                       min_samples_leaf=1, min_samples_split=2,\n",
       "                       min_weight_fraction_leaf=0.0, presort='deprecated',\n",
       "                       random_state=None, splitter='best')"
      ]
     },
     "execution_count": 154,
     "metadata": {},
     "output_type": "execute_result"
    }
   ],
   "source": [
    "model.fit(X,y)"
   ]
  },
  {
   "cell_type": "code",
   "execution_count": 155,
   "metadata": {},
   "outputs": [],
   "source": [
    "pred = model.predict(X_test)"
   ]
  },
  {
   "cell_type": "code",
   "execution_count": 156,
   "metadata": {},
   "outputs": [
    {
     "data": {
      "text/plain": [
       "array(['Light Pastel Purple #b19cd9', 'Satin Sheen Gold #cba135',\n",
       "       \"Tiger'S Eye #e08d3c\", 'Lime Green #32cd32',\n",
       "       'Bittersweet Shimmer #bf4f51'], dtype=object)"
      ]
     },
     "execution_count": 156,
     "metadata": {},
     "output_type": "execute_result"
    }
   ],
   "source": [
    "pred[0:5]"
   ]
  },
  {
   "cell_type": "code",
   "execution_count": 157,
   "metadata": {},
   "outputs": [],
   "source": [
    "dtscore = metrics.accuracy_score(y_test,pred)"
   ]
  },
  {
   "cell_type": "code",
   "execution_count": 158,
   "metadata": {},
   "outputs": [
    {
     "data": {
      "text/plain": [
       "0.9132947976878613"
      ]
     },
     "execution_count": 158,
     "metadata": {},
     "output_type": "execute_result"
    }
   ],
   "source": [
    "dtscore"
   ]
  },
  {
   "cell_type": "markdown",
   "metadata": {},
   "source": [
    "## Random Forest Classifier(Supervised learning)"
   ]
  },
  {
   "cell_type": "code",
   "execution_count": 159,
   "metadata": {},
   "outputs": [],
   "source": [
    "from sklearn.ensemble import RandomForestClassifier"
   ]
  },
  {
   "cell_type": "code",
   "execution_count": 160,
   "metadata": {},
   "outputs": [],
   "source": [
    "rfc = RandomForestClassifier(n_estimators=600)"
   ]
  },
  {
   "cell_type": "code",
   "execution_count": 161,
   "metadata": {},
   "outputs": [
    {
     "name": "stderr",
     "output_type": "stream",
     "text": [
      "C:\\ProgramData\\Anaconda3\\lib\\site-packages\\ipykernel_launcher.py:1: DataConversionWarning: A column-vector y was passed when a 1d array was expected. Please change the shape of y to (n_samples,), for example using ravel().\n",
      "  \"\"\"Entry point for launching an IPython kernel.\n"
     ]
    },
    {
     "data": {
      "text/plain": [
       "RandomForestClassifier(bootstrap=True, ccp_alpha=0.0, class_weight=None,\n",
       "                       criterion='gini', max_depth=None, max_features='auto',\n",
       "                       max_leaf_nodes=None, max_samples=None,\n",
       "                       min_impurity_decrease=0.0, min_impurity_split=None,\n",
       "                       min_samples_leaf=1, min_samples_split=2,\n",
       "                       min_weight_fraction_leaf=0.0, n_estimators=600,\n",
       "                       n_jobs=None, oob_score=False, random_state=None,\n",
       "                       verbose=0, warm_start=False)"
      ]
     },
     "execution_count": 161,
     "metadata": {},
     "output_type": "execute_result"
    }
   ],
   "source": [
    "rfc.fit(X,y)"
   ]
  },
  {
   "cell_type": "code",
   "execution_count": 162,
   "metadata": {},
   "outputs": [],
   "source": [
    "predictions = rfc.predict(X_test)"
   ]
  },
  {
   "cell_type": "code",
   "execution_count": 164,
   "metadata": {},
   "outputs": [
    {
     "data": {
      "text/plain": [
       "array(['Light Pastel Purple #b19cd9', 'Satin Sheen Gold #cba135',\n",
       "       \"Tiger'S Eye #e08d3c\", 'Lime Green #32cd32',\n",
       "       'Bittersweet Shimmer #bf4f51'], dtype=object)"
      ]
     },
     "execution_count": 164,
     "metadata": {},
     "output_type": "execute_result"
    }
   ],
   "source": [
    "predictions[0:5]"
   ]
  },
  {
   "cell_type": "code",
   "execution_count": 165,
   "metadata": {},
   "outputs": [],
   "source": [
    "rfcscore = metrics.accuracy_score(y_test,predictions)"
   ]
  },
  {
   "cell_type": "code",
   "execution_count": 166,
   "metadata": {},
   "outputs": [
    {
     "data": {
      "text/plain": [
       "0.9479768786127167"
      ]
     },
     "execution_count": 166,
     "metadata": {},
     "output_type": "execute_result"
    }
   ],
   "source": [
    "rfcscore"
   ]
  },
  {
   "cell_type": "markdown",
   "metadata": {},
   "source": [
    "## Accuracy"
   ]
  },
  {
   "cell_type": "code",
   "execution_count": 167,
   "metadata": {},
   "outputs": [
    {
     "name": "stdout",
     "output_type": "stream",
     "text": [
      "K NEAREST NEIGHBOURS: \n",
      "Accuracy score is  0.07514450867052024\n",
      "****************************************\n",
      "DECISION TREE: \n",
      "Accuracy score is  0.9132947976878613\n",
      "****************************************\n",
      "RANDOM FOREST CLASSIFIER: \n",
      "Accuracy score is  0.9479768786127167\n"
     ]
    }
   ],
   "source": [
    "print(\"K NEAREST NEIGHBOURS: \")\n",
    "print(\"Accuracy score is \",knnscore)\n",
    "print(\"****************************************\")\n",
    "print(\"DECISION TREE: \")\n",
    "print(\"Accuracy score is \",dtscore)\n",
    "print(\"****************************************\")\n",
    "print(\"RANDOM FOREST CLASSIFIER: \")\n",
    "print(\"Accuracy score is \",rfcscore)"
   ]
  },
  {
   "cell_type": "markdown",
   "metadata": {},
   "source": [
    "## Therefore, Random forest classifier is good for this dataset."
   ]
  },
  {
   "cell_type": "markdown",
   "metadata": {},
   "source": [
    "### Using Random Forest Classifier -->"
   ]
  },
  {
   "cell_type": "code",
   "execution_count": 174,
   "metadata": {},
   "outputs": [
    {
     "name": "stdout",
     "output_type": "stream",
     "text": [
      "Coordinates of pixel: X:  197 Y:  290\n",
      "Coordinates of pixel: X:  517 Y:  311\n",
      "Coordinates of pixel: X:  800 Y:  356\n",
      "Coordinates of pixel: X:  302 Y:  617\n",
      "Coordinates of pixel: X:  79 Y:  559\n",
      "Coordinates of pixel: X:  224 Y:  471\n",
      "Coordinates of pixel: X:  346 Y:  445\n",
      "Coordinates of pixel: X:  572 Y:  472\n",
      "Coordinates of pixel: X:  606 Y:  357\n",
      "Coordinates of pixel: X:  606 Y:  357\n",
      "Coordinates of pixel: X:  681 Y:  486\n",
      "Coordinates of pixel: X:  739 Y:  474\n",
      "Coordinates of pixel: X:  303 Y:  540\n",
      "Coordinates of pixel: X:  65 Y:  590\n",
      "Coordinates of pixel: X:  179 Y:  589\n",
      "Coordinates of pixel: X:  274 Y:  469\n",
      "Coordinates of pixel: X:  530 Y:  491\n",
      "Coordinates of pixel: X:  667 Y:  394\n",
      "Coordinates of pixel: X:  682 Y:  227\n",
      "Coordinates of pixel: X:  796 Y:  260\n",
      "Coordinates of pixel: X:  888 Y:  291\n",
      "Coordinates of pixel: X:  991 Y:  235\n",
      "Coordinates of pixel: X:  1024 Y:  277\n",
      "Coordinates of pixel: X:  745 Y:  151\n",
      "Coordinates of pixel: X:  547 Y:  212\n",
      "Coordinates of pixel: X:  845 Y:  250\n",
      "Coordinates of pixel: X:  994 Y:  265\n",
      "Coordinates of pixel: X:  1055 Y:  167\n",
      "Coordinates of pixel: X:  809 Y:  465\n",
      "Coordinates of pixel: X:  380 Y:  523\n",
      "Coordinates of pixel: X:  40 Y:  156\n",
      "Coordinates of pixel: X:  31 Y:  630\n"
     ]
    }
   ],
   "source": [
    "def mouseRGB(event,x,y,flags,param):\n",
    "    if event == cv2.EVENT_LBUTTONDOWN: #checks mouse left button down condition\n",
    "        colorsB = image[y,x,0]\n",
    "        colorsG = image[y,x,1]\n",
    "        colorsR = image[y,x,2]\n",
    "        font = cv2.FONT_HERSHEY_COMPLEX\n",
    "        img2 = cv2.rectangle(image, (10, 10), (650, 50), (255, 255, 255), -1)\n",
    "        img5 = cv2.putText(image, rfc.predict([[colorsR,colorsG,colorsB]])[0], (10, 35), font, 1, (0, 0, 0), 2, cv2.LINE_AA)\n",
    "        print(\"Coordinates of pixel: X: \",x,\"Y: \",y)\n",
    "image = cv2.imread(\"img.jpg\")\n",
    "cv2.namedWindow('mouseRGB',1)\n",
    "cv2.setMouseCallback('mouseRGB',mouseRGB)\n",
    "#Do until esc pressed\n",
    "while(1):\n",
    "    cv2.imshow('mouseRGB',image)\n",
    "    if cv2.waitKey(20) & 0xff==27:\n",
    "        break\n",
    "#if esc pressed, finish.\n",
    "cv2.destroyAllWindows()"
   ]
  },
  {
   "cell_type": "code",
   "execution_count": null,
   "metadata": {},
   "outputs": [],
   "source": []
  }
 ],
 "metadata": {
  "kernelspec": {
   "display_name": "Python 3",
   "language": "python",
   "name": "python3"
  },
  "language_info": {
   "codemirror_mode": {
    "name": "ipython",
    "version": 3
   },
   "file_extension": ".py",
   "mimetype": "text/x-python",
   "name": "python",
   "nbconvert_exporter": "python",
   "pygments_lexer": "ipython3",
   "version": "3.7.6"
  }
 },
 "nbformat": 4,
 "nbformat_minor": 4
}
